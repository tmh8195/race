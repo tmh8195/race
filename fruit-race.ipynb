{
 "cells": [
  {
   "cell_type": "code",
   "execution_count": 1,
   "metadata": {},
   "outputs": [
    {
     "name": "stdout",
     "output_type": "stream",
     "text": [
      "Untitled.ipynb  fruit.txt       time.txt        untitled\r\n"
     ]
    }
   ],
   "source": [
    "ls"
   ]
  },
  {
   "cell_type": "code",
   "execution_count": 21,
   "metadata": {},
   "outputs": [],
   "source": [
    "with open('fruit.txt') as f:\n",
    "    content = f.readlines() "
   ]
  },
  {
   "cell_type": "code",
   "execution_count": 22,
   "metadata": {},
   "outputs": [],
   "source": [
    "content = [x.strip() for x in content]"
   ]
  },
  {
   "cell_type": "code",
   "execution_count": 19,
   "metadata": {},
   "outputs": [
    {
     "ename": "AttributeError",
     "evalue": "'NoneType' object has no attribute 'sort'",
     "output_type": "error",
     "traceback": [
      "\u001b[0;31m---------------------------------------------------------------------------\u001b[0m",
      "\u001b[0;31mAttributeError\u001b[0m                            Traceback (most recent call last)",
      "\u001b[0;32m<ipython-input-19-8104a242a532>\u001b[0m in \u001b[0;36m<module>\u001b[0;34m()\u001b[0m\n\u001b[0;32m----> 1\u001b[0;31m \u001b[0mcontent\u001b[0m \u001b[0;34m=\u001b[0m \u001b[0mcontent\u001b[0m\u001b[0;34m.\u001b[0m\u001b[0msort\u001b[0m\u001b[0;34m(\u001b[0m\u001b[0;34m)\u001b[0m\u001b[0;34m\u001b[0m\u001b[0m\n\u001b[0m",
      "\u001b[0;31mAttributeError\u001b[0m: 'NoneType' object has no attribute 'sort'"
     ]
    }
   ],
   "source": [
    "content = content.sort()"
   ]
  },
  {
   "cell_type": "code",
   "execution_count": 23,
   "metadata": {},
   "outputs": [
    {
     "data": {
      "text/plain": [
       "['Apple',\n",
       " 'Apricot',\n",
       " 'Avocado',\n",
       " 'Banana',\n",
       " 'Bilberry',\n",
       " 'Blackberry',\n",
       " 'Blackcurrant',\n",
       " 'Feijoa',\n",
       " 'Fig',\n",
       " 'Goji berry',\n",
       " 'Gooseberry',\n",
       " 'Grape',\n",
       " 'Raisin',\n",
       " 'Physalis',\n",
       " 'Plantain',\n",
       " 'Plum',\n",
       " 'Prune (dried plum)',\n",
       " 'Pineapple',\n",
       " 'Plumcot (or Pluot)',\n",
       " 'Pomegranate',\n",
       " 'Pomelo',\n",
       " 'Purple mangosteen',\n",
       " 'Quince',\n",
       " 'Raspberry',\n",
       " 'Salmonberry',\n",
       " 'Rambutan',\n",
       " 'Redcurrant',\n",
       " 'Salal berry',\n",
       " 'Salak',\n",
       " 'Satsuma',\n",
       " 'Star fruit',\n",
       " 'Solanum quitoense',\n",
       " 'Strawberry',\n",
       " 'Tamarillo',\n",
       " 'Grapefruit',\n",
       " 'Guava',\n",
       " 'Honeyberry',\n",
       " 'Huckleberry',\n",
       " 'Jabuticaba',\n",
       " 'Jackfruit',\n",
       " 'Jambul',\n",
       " 'Jujube',\n",
       " 'Juniper berry',\n",
       " 'Kiwi',\n",
       " 'Kumquat',\n",
       " 'Lemon',\n",
       " 'Lime',\n",
       " 'Loquat',\n",
       " 'Longan',\n",
       " 'Lychee',\n",
       " 'Mango',\n",
       " 'Marionberry',\n",
       " 'Melon',\n",
       " 'Cantaloupe',\n",
       " 'Honeydew',\n",
       " 'Watermelon',\n",
       " 'Miracle fruit',\n",
       " 'Mulberry',\n",
       " 'Nectarine',\n",
       " 'Blueberry',\n",
       " 'Boysenberry',\n",
       " 'Currant',\n",
       " 'Cherry',\n",
       " 'Cherimoya',\n",
       " 'Cloudberry',\n",
       " 'Coconut',\n",
       " 'Cranberry',\n",
       " 'Cucumber',\n",
       " 'Custard apple',\n",
       " 'Damson',\n",
       " 'Date',\n",
       " 'Dragonfruit',\n",
       " 'Durian',\n",
       " 'Elderberry',\n",
       " 'Nance',\n",
       " 'Olive',\n",
       " 'Orange',\n",
       " 'Blood orange',\n",
       " 'Clementine',\n",
       " 'Mandarine',\n",
       " 'Tangerine',\n",
       " 'Papaya',\n",
       " 'Passionfruit',\n",
       " 'Peach',\n",
       " 'Pear',\n",
       " 'Persimmon',\n",
       " '',\n",
       " 'Tamarind',\n",
       " 'Ugli fruit',\n",
       " 'Yuzu']"
      ]
     },
     "execution_count": 23,
     "metadata": {},
     "output_type": "execute_result"
    }
   ],
   "source": [
    "content"
   ]
  },
  {
   "cell_type": "code",
   "execution_count": null,
   "metadata": {
    "collapsed": true
   },
   "outputs": [],
   "source": []
  }
 ],
 "metadata": {
  "kernelspec": {
   "display_name": "Python 2",
   "language": "python",
   "name": "python2"
  },
  "language_info": {
   "codemirror_mode": {
    "name": "ipython",
    "version": 2
   },
   "file_extension": ".py",
   "mimetype": "text/x-python",
   "name": "python",
   "nbconvert_exporter": "python",
   "pygments_lexer": "ipython2",
   "version": "2.7.14"
  }
 },
 "nbformat": 4,
 "nbformat_minor": 2
}
